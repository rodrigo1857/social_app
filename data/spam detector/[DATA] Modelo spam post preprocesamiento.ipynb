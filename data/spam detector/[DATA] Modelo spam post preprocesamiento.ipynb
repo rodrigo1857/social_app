{
 "cells": [
  {
   "cell_type": "code",
   "execution_count": 13,
   "id": "f451d7fe",
   "metadata": {},
   "outputs": [],
   "source": [
    "import pandas as pd\n",
    "import string\n",
    "import random\n",
    "import numpy as np\n",
    "from sklearn.feature_extraction.text import CountVectorizer\n",
    "from sklearn.model_selection import train_test_split\n",
    "from sklearn.naive_bayes import MultinomialNB\n",
    "from sklearn.metrics import accuracy_score\n",
    " "
   ]
  },
  {
   "cell_type": "code",
   "execution_count": 2,
   "id": "f909b300",
   "metadata": {
    "scrolled": false
   },
   "outputs": [
    {
     "data": {
      "text/html": [
       "<div>\n",
       "<style scoped>\n",
       "    .dataframe tbody tr th:only-of-type {\n",
       "        vertical-align: middle;\n",
       "    }\n",
       "\n",
       "    .dataframe tbody tr th {\n",
       "        vertical-align: top;\n",
       "    }\n",
       "\n",
       "    .dataframe thead th {\n",
       "        text-align: right;\n",
       "    }\n",
       "</style>\n",
       "<table border=\"1\" class=\"dataframe\">\n",
       "  <thead>\n",
       "    <tr style=\"text-align: right;\">\n",
       "      <th></th>\n",
       "      <th>user</th>\n",
       "      <th>published</th>\n",
       "      <th>updated</th>\n",
       "      <th>comment</th>\n",
       "    </tr>\n",
       "  </thead>\n",
       "  <tbody>\n",
       "    <tr>\n",
       "      <th>0</th>\n",
       "      <td>Abel Talagante</td>\n",
       "      <td>2023-08-17 12:25:23</td>\n",
       "      <td>2023-08-17 12:25:23</td>\n",
       "      <td>no se dice presidenta de peru sino presidenta ...</td>\n",
       "    </tr>\n",
       "    <tr>\n",
       "      <th>1</th>\n",
       "      <td>Jose Pérez</td>\n",
       "      <td>2023-08-17 09:06:18</td>\n",
       "      <td>2023-08-17 09:06:18</td>\n",
       "      <td>seguira la inestabilidad politica mientras hay...</td>\n",
       "    </tr>\n",
       "    <tr>\n",
       "      <th>2</th>\n",
       "      <td>Jose Pérez</td>\n",
       "      <td>2023-08-17 09:02:28</td>\n",
       "      <td>2023-08-17 09:02:28</td>\n",
       "      <td>habla bien no fue por el congreso sino por dar...</td>\n",
       "    </tr>\n",
       "    <tr>\n",
       "      <th>3</th>\n",
       "      <td>Joel Adán López Ruiz</td>\n",
       "      <td>2023-08-14 04:14:37</td>\n",
       "      <td>2023-08-14 04:14:37</td>\n",
       "      <td>es que se paso ya ni amlo se atrevio a tanto</td>\n",
       "    </tr>\n",
       "    <tr>\n",
       "      <th>4</th>\n",
       "      <td>gilberto bernal</td>\n",
       "      <td>2023-07-22 19:35:59</td>\n",
       "      <td>2023-07-22 19:35:59</td>\n",
       "      <td>pedro castillo sigue siendo presidente</td>\n",
       "    </tr>\n",
       "    <tr>\n",
       "      <th>...</th>\n",
       "      <td>...</td>\n",
       "      <td>...</td>\n",
       "      <td>...</td>\n",
       "      <td>...</td>\n",
       "    </tr>\n",
       "    <tr>\n",
       "      <th>95</th>\n",
       "      <td>Veronica Pilco</td>\n",
       "      <td>2022-12-17 22:46:16</td>\n",
       "      <td>2022-12-17 22:46:16</td>\n",
       "      <td>vamos compatriotas ni un paso atras rendirse n...</td>\n",
       "    </tr>\n",
       "    <tr>\n",
       "      <th>96</th>\n",
       "      <td>AmberNcMt</td>\n",
       "      <td>2022-12-17 21:15:14</td>\n",
       "      <td>2022-12-17 21:15:14</td>\n",
       "      <td>el mensaje central de la biblia es sobre el re...</td>\n",
       "    </tr>\n",
       "    <tr>\n",
       "      <th>97</th>\n",
       "      <td>Danny L</td>\n",
       "      <td>2022-12-17 20:29:28</td>\n",
       "      <td>2022-12-17 20:29:28</td>\n",
       "      <td>ahi vemos a los verdaderos dictadores golpista...</td>\n",
       "    </tr>\n",
       "    <tr>\n",
       "      <th>98</th>\n",
       "      <td>iggy</td>\n",
       "      <td>2022-12-17 19:59:50</td>\n",
       "      <td>2022-12-17 19:59:50</td>\n",
       "      <td>desde que se da inicio a las protestas las fue...</td>\n",
       "    </tr>\n",
       "    <tr>\n",
       "      <th>99</th>\n",
       "      <td>Yoyo Quarts</td>\n",
       "      <td>2022-12-17 19:57:19</td>\n",
       "      <td>2022-12-17 19:57:19</td>\n",
       "      <td>los carteles del nacotrafico que estan infiltr...</td>\n",
       "    </tr>\n",
       "  </tbody>\n",
       "</table>\n",
       "<p>100 rows × 4 columns</p>\n",
       "</div>"
      ],
      "text/plain": [
       "                    user             published               updated  \\\n",
       "0         Abel Talagante  2023-08-17 12:25:23   2023-08-17 12:25:23    \n",
       "1             Jose Pérez  2023-08-17 09:06:18   2023-08-17 09:06:18    \n",
       "2             Jose Pérez  2023-08-17 09:02:28   2023-08-17 09:02:28    \n",
       "3   Joel Adán López Ruiz  2023-08-14 04:14:37   2023-08-14 04:14:37    \n",
       "4        gilberto bernal  2023-07-22 19:35:59   2023-07-22 19:35:59    \n",
       "..                   ...                   ...                   ...   \n",
       "95        Veronica Pilco  2022-12-17 22:46:16   2022-12-17 22:46:16    \n",
       "96             AmberNcMt  2022-12-17 21:15:14   2022-12-17 21:15:14    \n",
       "97               Danny L  2022-12-17 20:29:28   2022-12-17 20:29:28    \n",
       "98                  iggy  2022-12-17 19:59:50   2022-12-17 19:59:50    \n",
       "99           Yoyo Quarts  2022-12-17 19:57:19   2022-12-17 19:57:19    \n",
       "\n",
       "                                              comment  \n",
       "0   no se dice presidenta de peru sino presidenta ...  \n",
       "1   seguira la inestabilidad politica mientras hay...  \n",
       "2   habla bien no fue por el congreso sino por dar...  \n",
       "3        es que se paso ya ni amlo se atrevio a tanto  \n",
       "4              pedro castillo sigue siendo presidente  \n",
       "..                                                ...  \n",
       "95  vamos compatriotas ni un paso atras rendirse n...  \n",
       "96  el mensaje central de la biblia es sobre el re...  \n",
       "97  ahi vemos a los verdaderos dictadores golpista...  \n",
       "98  desde que se da inicio a las protestas las fue...  \n",
       "99  los carteles del nacotrafico que estan infiltr...  \n",
       "\n",
       "[100 rows x 4 columns]"
      ]
     },
     "execution_count": 2,
     "metadata": {},
     "output_type": "execute_result"
    }
   ],
   "source": [
    "df = pd.read_csv('clean_data.csv')\n",
    "df"
   ]
  },
  {
   "cell_type": "code",
   "execution_count": 3,
   "id": "48fa760e",
   "metadata": {
    "scrolled": false
   },
   "outputs": [],
   "source": [
    "random.seed(0)  # Esto asegura que los números aleatorios sean reproducibles\n",
    "df['tag'] = [random.choice([0, 1]) for _ in range(len(df))]"
   ]
  },
  {
   "cell_type": "code",
   "execution_count": 4,
   "id": "d874caeb",
   "metadata": {
    "scrolled": false
   },
   "outputs": [],
   "source": [
    "df['tag'] = df['tag'].astype(int)"
   ]
  },
  {
   "cell_type": "code",
   "execution_count": 5,
   "id": "43b4a59a",
   "metadata": {
    "scrolled": false
   },
   "outputs": [
    {
     "data": {
      "text/html": [
       "<div>\n",
       "<style scoped>\n",
       "    .dataframe tbody tr th:only-of-type {\n",
       "        vertical-align: middle;\n",
       "    }\n",
       "\n",
       "    .dataframe tbody tr th {\n",
       "        vertical-align: top;\n",
       "    }\n",
       "\n",
       "    .dataframe thead th {\n",
       "        text-align: right;\n",
       "    }\n",
       "</style>\n",
       "<table border=\"1\" class=\"dataframe\">\n",
       "  <thead>\n",
       "    <tr style=\"text-align: right;\">\n",
       "      <th></th>\n",
       "      <th>user</th>\n",
       "      <th>published</th>\n",
       "      <th>updated</th>\n",
       "      <th>comment</th>\n",
       "      <th>tag</th>\n",
       "    </tr>\n",
       "  </thead>\n",
       "  <tbody>\n",
       "    <tr>\n",
       "      <th>0</th>\n",
       "      <td>Abel Talagante</td>\n",
       "      <td>2023-08-17 12:25:23</td>\n",
       "      <td>2023-08-17 12:25:23</td>\n",
       "      <td>no se dice presidenta de peru sino presidenta ...</td>\n",
       "      <td>1</td>\n",
       "    </tr>\n",
       "    <tr>\n",
       "      <th>1</th>\n",
       "      <td>Jose Pérez</td>\n",
       "      <td>2023-08-17 09:06:18</td>\n",
       "      <td>2023-08-17 09:06:18</td>\n",
       "      <td>seguira la inestabilidad politica mientras hay...</td>\n",
       "      <td>1</td>\n",
       "    </tr>\n",
       "    <tr>\n",
       "      <th>2</th>\n",
       "      <td>Jose Pérez</td>\n",
       "      <td>2023-08-17 09:02:28</td>\n",
       "      <td>2023-08-17 09:02:28</td>\n",
       "      <td>habla bien no fue por el congreso sino por dar...</td>\n",
       "      <td>0</td>\n",
       "    </tr>\n",
       "    <tr>\n",
       "      <th>3</th>\n",
       "      <td>Joel Adán López Ruiz</td>\n",
       "      <td>2023-08-14 04:14:37</td>\n",
       "      <td>2023-08-14 04:14:37</td>\n",
       "      <td>es que se paso ya ni amlo se atrevio a tanto</td>\n",
       "      <td>1</td>\n",
       "    </tr>\n",
       "    <tr>\n",
       "      <th>4</th>\n",
       "      <td>gilberto bernal</td>\n",
       "      <td>2023-07-22 19:35:59</td>\n",
       "      <td>2023-07-22 19:35:59</td>\n",
       "      <td>pedro castillo sigue siendo presidente</td>\n",
       "      <td>1</td>\n",
       "    </tr>\n",
       "    <tr>\n",
       "      <th>...</th>\n",
       "      <td>...</td>\n",
       "      <td>...</td>\n",
       "      <td>...</td>\n",
       "      <td>...</td>\n",
       "      <td>...</td>\n",
       "    </tr>\n",
       "    <tr>\n",
       "      <th>95</th>\n",
       "      <td>Veronica Pilco</td>\n",
       "      <td>2022-12-17 22:46:16</td>\n",
       "      <td>2022-12-17 22:46:16</td>\n",
       "      <td>vamos compatriotas ni un paso atras rendirse n...</td>\n",
       "      <td>1</td>\n",
       "    </tr>\n",
       "    <tr>\n",
       "      <th>96</th>\n",
       "      <td>AmberNcMt</td>\n",
       "      <td>2022-12-17 21:15:14</td>\n",
       "      <td>2022-12-17 21:15:14</td>\n",
       "      <td>el mensaje central de la biblia es sobre el re...</td>\n",
       "      <td>1</td>\n",
       "    </tr>\n",
       "    <tr>\n",
       "      <th>97</th>\n",
       "      <td>Danny L</td>\n",
       "      <td>2022-12-17 20:29:28</td>\n",
       "      <td>2022-12-17 20:29:28</td>\n",
       "      <td>ahi vemos a los verdaderos dictadores golpista...</td>\n",
       "      <td>0</td>\n",
       "    </tr>\n",
       "    <tr>\n",
       "      <th>98</th>\n",
       "      <td>iggy</td>\n",
       "      <td>2022-12-17 19:59:50</td>\n",
       "      <td>2022-12-17 19:59:50</td>\n",
       "      <td>desde que se da inicio a las protestas las fue...</td>\n",
       "      <td>0</td>\n",
       "    </tr>\n",
       "    <tr>\n",
       "      <th>99</th>\n",
       "      <td>Yoyo Quarts</td>\n",
       "      <td>2022-12-17 19:57:19</td>\n",
       "      <td>2022-12-17 19:57:19</td>\n",
       "      <td>los carteles del nacotrafico que estan infiltr...</td>\n",
       "      <td>0</td>\n",
       "    </tr>\n",
       "  </tbody>\n",
       "</table>\n",
       "<p>100 rows × 5 columns</p>\n",
       "</div>"
      ],
      "text/plain": [
       "                    user             published               updated  \\\n",
       "0         Abel Talagante  2023-08-17 12:25:23   2023-08-17 12:25:23    \n",
       "1             Jose Pérez  2023-08-17 09:06:18   2023-08-17 09:06:18    \n",
       "2             Jose Pérez  2023-08-17 09:02:28   2023-08-17 09:02:28    \n",
       "3   Joel Adán López Ruiz  2023-08-14 04:14:37   2023-08-14 04:14:37    \n",
       "4        gilberto bernal  2023-07-22 19:35:59   2023-07-22 19:35:59    \n",
       "..                   ...                   ...                   ...   \n",
       "95        Veronica Pilco  2022-12-17 22:46:16   2022-12-17 22:46:16    \n",
       "96             AmberNcMt  2022-12-17 21:15:14   2022-12-17 21:15:14    \n",
       "97               Danny L  2022-12-17 20:29:28   2022-12-17 20:29:28    \n",
       "98                  iggy  2022-12-17 19:59:50   2022-12-17 19:59:50    \n",
       "99           Yoyo Quarts  2022-12-17 19:57:19   2022-12-17 19:57:19    \n",
       "\n",
       "                                              comment  tag  \n",
       "0   no se dice presidenta de peru sino presidenta ...    1  \n",
       "1   seguira la inestabilidad politica mientras hay...    1  \n",
       "2   habla bien no fue por el congreso sino por dar...    0  \n",
       "3        es que se paso ya ni amlo se atrevio a tanto    1  \n",
       "4              pedro castillo sigue siendo presidente    1  \n",
       "..                                                ...  ...  \n",
       "95  vamos compatriotas ni un paso atras rendirse n...    1  \n",
       "96  el mensaje central de la biblia es sobre el re...    1  \n",
       "97  ahi vemos a los verdaderos dictadores golpista...    0  \n",
       "98  desde que se da inicio a las protestas las fue...    0  \n",
       "99  los carteles del nacotrafico que estan infiltr...    0  \n",
       "\n",
       "[100 rows x 5 columns]"
      ]
     },
     "execution_count": 5,
     "metadata": {},
     "output_type": "execute_result"
    }
   ],
   "source": [
    "df"
   ]
  },
  {
   "cell_type": "code",
   "execution_count": 6,
   "id": "30895d59",
   "metadata": {
    "scrolled": false
   },
   "outputs": [],
   "source": [
    "df.to_csv('date_modelo.csv', index=False)"
   ]
  },
  {
   "cell_type": "code",
   "execution_count": 7,
   "id": "5ed76853",
   "metadata": {},
   "outputs": [],
   "source": [
    "#Variables de entrenamiento y prueba"
   ]
  },
  {
   "cell_type": "code",
   "execution_count": 8,
   "id": "6524e297",
   "metadata": {},
   "outputs": [
    {
     "name": "stdout",
     "output_type": "stream",
     "text": [
      "Number of rows in the total set: 100\n",
      "Number of rows in the training set: 75\n",
      "Number of rows in the test set: 25\n"
     ]
    }
   ],
   "source": [
    "X_train, X_test, y_train,y_test = train_test_split(df['comment'],df['tag'],random_state=1)\n",
    "\n",
    "print('Number of rows in the total set: {}'.format(df.shape[0]))\n",
    "print('Number of rows in the training set: {}'.format(X_train.shape[0]))\n",
    "print('Number of rows in the test set: {}'.format(X_test.shape[0]))\n"
   ]
  },
  {
   "cell_type": "code",
   "execution_count": 9,
   "id": "6a38072b",
   "metadata": {},
   "outputs": [],
   "source": [
    "count_vector = CountVectorizer()"
   ]
  },
  {
   "cell_type": "code",
   "execution_count": 10,
   "id": "94599e53",
   "metadata": {},
   "outputs": [
    {
     "name": "stdout",
     "output_type": "stream",
     "text": [
      "  (0, 812)\t1\n",
      "  (0, 278)\t1\n",
      "  (0, 237)\t3\n",
      "  (0, 670)\t1\n",
      "  (0, 506)\t1\n",
      "  (0, 51)\t1\n",
      "  (0, 456)\t2\n",
      "  (0, 733)\t2\n",
      "  (0, 118)\t1\n",
      "  (0, 34)\t1\n",
      "  (0, 804)\t1\n",
      "  (0, 505)\t1\n",
      "  (0, 988)\t1\n",
      "  (0, 630)\t1\n",
      "  (0, 705)\t1\n",
      "  (0, 306)\t1\n",
      "  (1, 237)\t1\n",
      "  (1, 669)\t1\n",
      "  (1, 259)\t1\n",
      "  (1, 861)\t1\n",
      "  (1, 868)\t1\n",
      "  (1, 775)\t1\n",
      "  (1, 720)\t1\n",
      "  (1, 148)\t1\n",
      "  (1, 798)\t1\n",
      "  :\t:\n",
      "  (74, 334)\t1\n",
      "  (74, 535)\t1\n",
      "  (74, 149)\t1\n",
      "  (74, 391)\t1\n",
      "  (74, 183)\t1\n",
      "  (74, 772)\t1\n",
      "  (74, 64)\t1\n",
      "  (74, 882)\t1\n",
      "  (74, 913)\t1\n",
      "  (74, 738)\t1\n",
      "  (74, 210)\t1\n",
      "  (74, 208)\t1\n",
      "  (74, 115)\t1\n",
      "  (74, 209)\t1\n",
      "  (74, 207)\t1\n",
      "  (74, 182)\t1\n",
      "  (74, 112)\t1\n",
      "  (74, 202)\t1\n",
      "  (74, 686)\t1\n",
      "  (74, 405)\t1\n",
      "  (74, 114)\t1\n",
      "  (74, 789)\t1\n",
      "  (74, 1001)\t1\n",
      "  (74, 270)\t1\n",
      "  (74, 975)\t1\n",
      "['100', '1000', '11', '15br', '19lucas', '20', '2021y', '30', '44brbr', '5200', '67', '70', '7brbren', '910brbr', 'abanderado', 'absoluto', 'abusar', 'abusos', 'aca', 'acabar', 'acallar', 'aceptar', 'acordaran', 'actual', 'acusados', 'adelante', 'adelantereglamentos', 'ademas', 'adicicionalmente', 'adoctrinando', 'aeropuertos', 'ahi', 'ahora', 'ahorahora', 'ai', 'al', 'ala', 'alcatras', 'alentar', 'alguien', 'aliados', 'alienada', 'alimentos', 'alma', 'amable', 'amlo', 'andamos', 'andanza', 'angel', 'anicos', 'ano', 'antes', 'antimanifestacion', 'anuncia', 'aplicar', 'apocalipsis', 'apoyaron', 'apoyo', 'aprendi', 'apresar', 'apristones', 'aprobar', 'aquel', 'argentina', 'armadas', 'arrastrarme', 'arreglos', 'arrestar', 'asegurar', 'asesina', 'asesinar', 'asesinaron', 'asesinato', 'asesinatos', 'asistencia', 'asna', 'asonadasa', 'asqueado', 'asquerosa', 'asume', 'asumir', 'atentados', 'atras', 'atrevio', 'aun', 'autogolpe', 'avala', 'avanzado', 'ayuda', 'ayudado', 'ayudarlabrque', 'ayudo', 'baja', 'bajeza', 'bajo', 'balas', 'banda', 'basico', 'basta', 'bate', 'bbc', 'beatriz', 'bendito', 'bermejo', 'beso', 'biblia', 'bien', 'bienbrporque', 'bolivia', 'boluarte', 'bonificaciones', 'bpor', 'br', 'brah', 'brbr', 'brparlamento', 'brqueria', 'brquotporque', 'bry', 'buen', 'buena', 'buenas', 'bueno', 'buenos', 'burro', 'cada', 'cadaveres', 'cadavid', 'calificandonos', 'cama', 'camara', 'cambiar', 'cambio', 'campeom', 'cansado', 'caos', 'capaces', 'capacidad', 'capacitacion', 'capas', 'capital', 'captados', 'carcel', 'cargadas', 'carta', 'cartel', 'carteles', 'casa', 'castilllo', 'castillo', 'castillola', 'causa', 'causal', 'celo', 'centrado', 'central', 'centralizar', 'centro', 'cerebro', 'cerrar', 'chayoteros', 'chilena', 'cholarte', 'chrri', 'cielo', 'cielos', 'cierra', 'cierto', 'cinismo', 'ciudadanos', 'civico', 'civil', 'clases', 'cobraran', 'coimas', 'coludido', 'comenzo', 'cometio', 'como', 'compatriotas', 'completo', 'compra', 'comprados', 'comunicacion', 'comunista', 'comunistas', 'con', 'conclusiones', 'concreso', 'confianza', 'congresistas', 'congreso', 'conjunta', 'conjuntamente', 'consecuencia', 'consejero', 'constitucion', 'constitucional', 'continue', 'contra', 'contrato', 'contratos', 'controlados', 'corbata', 'correcta', 'corrupcion', 'corrupta', 'corruptasbrmedios', 'corrupto', 'corruptobrfzas', 'corruptobrpoder', 'corruptos', 'cosa', 'cosas', 'crecer', 'crimenes', 'criminal', 'crisis', 'cristo', 'cruel', 'cualquier', 'cuando', 'cuanto', 'cubanos', 'cuenta', 'cuerpos', 'culpables', 'cumples', 'cundieron', 'da', 'dado', 'dandonos', 'daniel', 'dar', 'darle', 'darse', 'david', 'de', 'debajo', 'deben', 'deberia', 'debes', 'decadas', 'dechile', 'decian', 'decide', 'decidieron', 'decir', 'decirles', 'decirlo', 'defender', 'defiende', 'dejado', 'dejamos', 'dejar', 'dejarlo', 'dejaron', 'dejes', 'dejo', 'del', 'delincuente', 'delincuentes', 'democracia', 'democraticamente', 'demoniaco', 'demonios', 'demuestra', 'derecha', 'derecho', 'derechos', 'derrocarlo', 'des', 'desahuevanse', 'desaparecidos', 'desastre', 'descarado', 'descentralizacion', 'desde', 'desgracia', 'desgraciados', 'desiciones', 'desinformar', 'despreciandonos', 'despues', 'desquiciada', 'destitucion', 'destituido', 'destituyo', 'destrozados', 'destruido', 'destruyendo', 'detras', 'dia', 'dias', 'dice', 'dicen', 'diciendo', 'dictador', 'dictadura', 'dictatorial', 'diestra', 'difamacion', 'diferente', 'dificil', 'dificiles', 'difunda', 'difundir', 'dina', 'dinero', 'dio', 'dios', 'dirigentes', 'dirigida', 'discurso', 'dispertar', 'dispuesta', 'distraccion', 'distraerse', 'disyuntiva', 'dividendos', 'division', 'dl', 'do', 'donde', 'dos', 'dramatica', 'duluarte', 'durar', 'duro', 'duve', 'educacio', 'educacion', 'ejecutivo', 'ejercitos', 'el', 'elecciones', 'electoralbr', 'elegido', 'elemento', 'elenida', 'eligio', 'elirio', 'ella', 'ello', 'ellos', 'embajada', 'embargo', 'empresa', 'empresarial', 'empresario', 'empresarios', 'en', 'enamorado', 'encarcelado', 'encontraron', 'encubrimiento', 'encuentren', 'enganados', 'enganar', 'enriquecen', 'enriquecerse', 'enriquezca', 'entero', 'entoe', 'entonces', 'entre', 'entreguista', 'era', 'es', 'esa', 'escrito', 'ese', 'eso', 'esos', 'espalda', 'esperan', 'esperen', 'espero', 'esta', 'estaban', 'establecera', 'establecerlo', 'estado', 'estamos', 'estan', 'estara', 'estaran', 'estaras', 'estas', 'este', 'estilo', 'esto', 'estos', 'etc', 'eterno', 'evo', 'ex', 'excita', 'exista', 'existe', 'existen', 'expansion', 'explotacion', 'expolian', 'expresidente', 'extrangeros', 'extranjero', 'fallido', 'falsa', 'falsedades', 'falta', 'familia', 'familias', 'fanaticos', 'favor', 'festivales', 'ffaa', 'fin', 'finbren', 'firmemente', 'fiscal', 'fraude', 'fue', 'fuertes', 'fuerza', 'fuerzas', 'fujimori', 'fujimorista', 'funciono', 'futbol', 'gabuedo', 'gas', 'genocidas', 'gente', 'gestion', 'globales', 'gobernacion', 'gobernado', 'gobernar', 'gobierno', 'gobiernobry', 'golpe', 'golpeando', 'golpista', 'googleando', 'grandes', 'gringos', 'grupos', 'guido', 'guion', 'gujimontesinismo', 'gusta', 'gusto', 'ha', 'habia', 'hablando', 'hablar', 'hace', 'hacen', 'hacer', 'haces', 'haciendo', 'hae', 'haga', 'hagan', 'hambre', 'hambrequot', 'han', 'hara', 'hasta', 'hay', 'haya', 'hayan', 'he', 'hecho', 'hechos', 'heridos', 'hermanos', 'hijobry', 'historia', 'hola', 'hombre', 'hoy', 'href', 'hrefaboutinvalidzcsafeza', 'hubo', 'humanos', 'huusurpadora', 'huyo', 'icono', 'idiotizada', 'igual', 'ilegalmente', 'imaginese', 'implantara', 'importa', 'impresionante', 'incapaz', 'incremento', 'indiscriminadamente', 'indultar', 'inestabilidad', 'infamia', 'infiltrados', 'informacion', 'informar', 'informate', 'informe', 'ingresos', 'inicio', 'injusta', 'inscritos', 'inserte', 'insitadores', 'instalado', 'instaurar', 'intencion', 'intension', 'intereses', 'inundaciones', 'inversiones', 'inversores', 'invertir', 'investigar', 'investiguen', 'isaias', 'izquierda', 'jaja', 'jamas', 'jehova', 'jente', 'jerga', 'jerry', 'jovenes', 'juan', 'judicial', 'juego', 'jugada', 'junio', 'junto', 'justicia', 'justificaron', 'la', 'lacrimogeno', 'lado', 'ladron', 'ladrones', 'lamdrones', 'lamentable', 'lamentablemente', 'largo', 'las', 'le', 'legitimo', 'leido', 'les', 'leyes', 'libre', 'limpio', 'litio', 'llamara', 'llegado', 'llenado', 'lleva', 'llevar', 'lleve', 'lleven', 'llevo', 'lls', 'lo', 'lograron', 'los', 'lucha', 'luminoso', 'luz', 'mafiosos', 'mal', 'malas', 'malcolm', 'maldita', 'malditos', 'malevolo', 'malignoquot', 'malo', 'malos', 'manda', 'mando', 'manejos', 'manera', 'manerabrpadre', 'manipulado', 'manos', 'manosbrse', 'manuel', 'maravilloso', 'marchas', 'mas', 'masacrando', 'matan', 'matanza', 'mateo', 'mayoria', 'me', 'mediante', 'medio', 'mediocres', 'medios', 'meme', 'menos', 'mensaje', 'mentiras', 'mentiroso', 'meparese', 'merito', 'mesa', 'meses', 'mesesbrnadie', 'mexico', 'mi', 'mienta', 'mientras', 'mil', 'miles', 'militar', 'militares', 'millonarios', 'minerias', 'minimo', 'mintiendo', 'minutos', 'mira', 'mismo', 'modificar', 'momento', 'montesinos', 'morales', 'motivo', 'movilizado', 'movimiento', 'mucho', 'muchos', 'muertes', 'muertos', 'mujer', 'mujerzuela', 'mundo', 'muriendo', 'muy', 'nacido', 'nacion', 'nacional', 'nacotrafico', 'nada', 'nadie', 'narcotrafico', 'nausabundos', 'necesaria', 'necesita', 'negocios', 'neurona', 'ni', 'nieguen', 'ningun', 'ninobrse', 'ninos', 'no', 'noches', 'nombre', 'nos', 'noticias', 'noticiero', 'nuestra', 'nuestro', 'nueva', 'nuevos', 'nula', 'nunca', 'obedeciendo', 'obligar', 'observar', 'obtruyen', 'obviamente', 'odian', 'odio', 'ofende', 'ojala', 'oligarcas', 'olvidar', 'opinion', 'oportunistas', 'oprimen', 'orar', 'ordenar', 'ordenes', 'organizaciones', 'orgullosa', 'origen', 'otro', 'otros', 'padre', 'padres', 'pais', 'paises', 'palabra', 'palacio', 'para', 'parar', 'pararemos', 'parte', 'partidario', 'partidarios', 'partidos', 'pasa', 'pasara', 'paso', 'pateticos', 'patria', 'paz', 'pazbr', 'pedro', 'pedroo', 'peleando', 'peligro', 'pensaba', 'peonesdina', 'peor', 'periodista', 'permanecera', 'permiten', 'pero', 'persona', 'personales', 'personas', 'peru', 'peruana', 'peruanas', 'peruano', 'peruanos', 'perubrcongreso', 'piedra', 'pillos', 'pisoteado', 'placer', 'plagas', 'plena', 'poblacion', 'pobre', 'pobreza', 'poca', 'poder', 'poderes', 'poderoso', 'podran', 'podridas', 'podrido', 'policia', 'policial', 'policias', 'politica', 'politicos', 'pondra', 'pone', 'poner', 'poniendo', 'por', 'porque', 'posee', 'posible', 'precipicio', 'prensa', 'presentadorab', 'presentarla', 'presidencia', 'presidencial', 'presidenta', 'presidente', 'pretexto', 'primera', 'principe', 'principio', 'prision', 'probe', 'problema', 'problemas', 'proceso', 'propias', 'propio', 'protestantes', 'protestas', 'pte', 'publica', 'publico', 'pudra', 'pueblo', 'puede', 'pueden', 'pues', 'puro', 'que', 'queria', 'quien', 'quieran', 'quiere', 'quieren', 'quieres', 'quiero', 'quince', 'quiso', 'quot', 'quotdelquot', 'quotejercito', 'quotel', 'qye', 'rapido', 'ratero', 'realidad', 'realidadquot', 'realmente', 'recibimos', 'recibir', 'recista', 'reclamar', 'rectitudbrdesde', 'reinara', 'reino', 'reinobrpara', 'reinos', 'relacion', 'rendirse', 'renovacion', 'renunsia', 'representa', 'reprimiendo', 'repuerta', 'resentido', 'respetar', 'restablecimiento', 'resuelva', 'resulta', 'retorciendose', 'retroceder', 'reyes', 'ricos', 'robar', 'robo', 'rumor', 'sa', 'sabandija', 'sabe', 'sabemos', 'saben', 'saber', 'sacaran', 'sacudirse', 'sale', 'salgas', 'salio', 'santificado', 'save', 'se', 'sea', 'secuestro', 'seguira', 'segundon', 'seguridad', 'seguro', 'seis', 'sendero', 'senor', 'senora', 'senores', 'sensato', 'sentado', 'sentimos', 'sepan', 'septimo', 'ser', 'sera', 'seria', 'servicio', 'seudo', 'si', 'sido', 'siempre', 'siemprebrel', 'siendo', 'sigan', 'sigue', 'sillon', 'sin', 'siniestra', 'sino', 'sirve', 'sistema', 'situacion', 'situaciones', 'siudadania', 'soberania', 'sobobmnaron', 'sobre', 'social', 'sol', 'sola', 'solo', 'solos', 'solucion', 'sombra', 'somos', 'son', 'sorpresa', 'sostenerlobrcon', 'sra', 'su', 'sucede', 'sucedieron', 'suertebrestamos', 'suplente', 'surdo', 'sus', 'tal', 'tambien', 'tampoco', 'tan', 'tantas', 'tanto', 'te', 'tendran', 'tener', 'tengan', 'tenido', 'tercero', 'termina', 'terminan', 'terroristas', 'terruco', 'terrucos', 'tiene', 'tienen', 'tierra', 'tipos', 'titere', 'toco', 'todo', 'todos', 'toma', 'tome', 'torpe', 'totalmente', 'trabajar', 'trabajo', 'traidora', 'traje', 'transicion', 'tremendo', 'tres', 'tribunal', 'triste', 'trompeta', 'trono', 'tu', 'tuvo', 'ultimos', 'un', 'una', 'unas', 'unicas', 'unico', 'uniforme', 'uniformes', 'unos', 'usa', 'usar', 'usted', 'ustedes', 'usurpadora', 'usurpar', 'vacado', 'vacadores', 'vacan', 'vacar', 'vacaron', 'vago', 'vale', 'validez', 'vamos', 'van', 'vaya', 'vean', 'vebte', 'veces', 'vencen', 'vende', 'vendido', 'venga', 'venidero', 'verdad', 'verdadera', 'vergonzoso', 'verla', 'vez', 'vicepresidenta', 'victimaenganado', 'vida', 'video', 'viene', 'vio', 'violacion', 'violencia', 'violentas', 'viva', 'vivientes', 'voces', 'voluntad', 'volver', 'vuelven', 'wow', 'xd', 'ya', 'zapatos', 'zelensky']\n"
     ]
    },
    {
     "name": "stderr",
     "output_type": "stream",
     "text": [
      "D:\\user\\lib\\site-packages\\sklearn\\utils\\deprecation.py:87: FutureWarning: Function get_feature_names is deprecated; get_feature_names is deprecated in 1.0 and will be removed in 1.2. Please use get_feature_names_out instead.\n",
      "  warnings.warn(msg, category=FutureWarning)\n"
     ]
    }
   ],
   "source": [
    "training_data = count_vector.fit_transform(X_train)\n",
    "print(training_data)\n",
    "print(count_vector.get_feature_names())"
   ]
  },
  {
   "cell_type": "code",
   "execution_count": 11,
   "id": "c6622aa5",
   "metadata": {},
   "outputs": [],
   "source": [
    "testing_data = count_vector.transform(X_test)\n",
    "\n",
    "naive_bayes = MultinomialNB()\n",
    "naive_bayes.fit(training_data, y_train)\n",
    "\n",
    "predictions = naive_bayes.predict(testing_data)\n"
   ]
  },
  {
   "cell_type": "code",
   "execution_count": 12,
   "id": "372be224",
   "metadata": {},
   "outputs": [
    {
     "name": "stdout",
     "output_type": "stream",
     "text": [
      "La predicción fue:  [0 1 1 0 1 0 1 0 0 0 0 1 0 1 0 0 0 0 0 0 0 1 0 1 0]\n",
      "Accuracy score:  0.56\n"
     ]
    }
   ],
   "source": [
    "print('La predicción fue: ',predictions)\n",
    "print('Accuracy score: ', format(accuracy_score(y_test,predictions)))"
   ]
  },
  {
   "cell_type": "code",
   "execution_count": null,
   "id": "6cfd8999",
   "metadata": {},
   "outputs": [],
   "source": [
    "from sklearn.metrics import confusion_matrix\n",
    "\n",
    "# Ejemplo de predicciones y etiquetas verdadera\n",
    "y_true = [0, 1, 1, 0, 1, 0 ,1 ,0, 0 ,0, 0, 1, 0, 1 ,0, 0, 0, 0, 0, 0 ,0 ,1, 0 ,1, 0]\n",
    "# Calcula la matriz de confusión\n",
    "confusion = confusion_matrix(y_true, predictions)\n",
    "\n",
    "print(\"Matriz de Confusión:\")\n",
    "print(confusion)"
   ]
  }
 ],
 "metadata": {
  "kernelspec": {
   "display_name": "Python 3 (ipykernel)",
   "language": "python",
   "name": "python3"
  },
  "language_info": {
   "codemirror_mode": {
    "name": "ipython",
    "version": 3
   },
   "file_extension": ".py",
   "mimetype": "text/x-python",
   "name": "python",
   "nbconvert_exporter": "python",
   "pygments_lexer": "ipython3",
   "version": "3.9.13"
  }
 },
 "nbformat": 4,
 "nbformat_minor": 5
}
